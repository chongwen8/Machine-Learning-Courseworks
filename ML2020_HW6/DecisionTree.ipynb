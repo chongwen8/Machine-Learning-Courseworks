{
 "cells": [
  {
   "cell_type": "markdown",
   "metadata": {},
   "source": [
    "# 决策树\n",
    "\n",
    "决策树(Decision Tree)首先对数据进行处理，利用归纳算法生成可读的规则和决策树，然后使用决策对新数据进行分析，本质上是通过一系列规则对数据进行分类的过程\n",
    "\n",
    "决策树是一种典型的分类方法。其中:\n",
    "+ 每个内部结点表示一个属性上的判断\n",
    "+ 每个分支代表一个判断结果的输出\n",
    "+ 每个叶结点代表一种分类结果。\n",
    "\n",
    "CLS算法是早期提出的决策树学习算法，是很多决策树学习算法的基础框架。\n",
    "依据其中选择分类属性的策略不同，可以得到不同的决策树算法。比较常用的决策树有ID3，C4.5和CART三种和实现，其中CART一般优于其他决策树，并且可用于回归任务。\n",
    "\n",
    "下面我们将编写代码实现这三种决策树算法。"
   ]
  },
  {
   "cell_type": "markdown",
   "metadata": {},
   "source": [
    "### 任务一: 导入包和创建数据集\n",
    "本实验所需的包不多\n",
    "+ log用于计算                                                                                                                                                                                  \n",
    "+ treePlotter为已经编写好的用于可视化决策树的代码，createPlot(tree)就可以调用\n",
    "+ csv为对csv文件进行操作所需的包\n",
    "\n",
    "本实验第一个使用的是天气情况数据集，属性集合A={ 天气，温度，湿度，风速}， 类别标签有两个，类别集合L={进行（yes），取消(no)}。\n",
    "![dataset1.png](img/dataset1.png)\n",
    "本实验中我们用字典嵌套的形式来表示一个决策树,如一个形如![tree1.png](img/tree1.png)\n",
    "的决策树可表示为  {'weather': {0: {'wspeed': {0: 'yes', 2: 'no', 3: 'no'}}, 1: 'yes'}}"
   ]
  },
  {
   "cell_type": "code",
   "execution_count": 1,
   "metadata": {},
   "outputs": [
    {
     "data": {
      "text/plain": [
       "['weather', 'temperature', 'humidity', 'wspeed']"
      ]
     },
     "execution_count": 1,
     "metadata": {},
     "output_type": "execute_result"
    }
   ],
   "source": [
    "from math import log\n",
    "import treePlotter,csv \n",
    "import numpy as np\n",
    "def createDataSet1():\n",
    "    data=[\n",
    "        [0, 0, 0, 0, 'yes'],\n",
    "        [0, 1, 0, 1, 'yes'],\n",
    "        [0, 2, 1, 0, 'no'],\n",
    "        [0, 2, 1, 1, 'no'],\n",
    "        [0, 1, 1, 0, 'no'],\n",
    "        [1, 2, 1, 0, 'yes'],\n",
    "        [1, 0, 0, 1, 'yes'],\n",
    "        [1, 1, 1, 1, 'yes'],\n",
    "        [1, 2, 0, 0, 'yes'],\n",
    "        [2, 1, 1, 0, 'yes'],\n",
    "        [2, 0, 0, 0, 'yes'],\n",
    "        [2, 1, 0, 0, 'yes'],\n",
    "        [2, 0, 0, 1, 'no'],\n",
    "        [2, 1, 1, 1, 'no']\n",
    "        ]\n",
    "    features=['weather','temperature','humidity','wspeed']\n",
    "    return data,features\n",
    "\n",
    "data1,features1 = createDataSet1()\n",
    "features1"
   ]
  },
  {
   "cell_type": "markdown",
   "metadata": {},
   "source": [
    "### 任务二：ID3树\n",
    "\n",
    "ID3 以信息熵的增益来作为分类的依据。假设样本集D中第$k$类样本占比$p_k$，可计算其对应信息熵为:$$Ent(D)=-\\sum_k p_k log p_k$$ $Ent(D)$越小，代表数据集越有序，纯度越高。我们首先编写计算数据集香农熵的函数。\n",
    "##### 2.1完成香农熵计算函数"
   ]
  },
  {
   "cell_type": "code",
   "execution_count": 2,
   "metadata": {},
   "outputs": [],
   "source": [
    "def calcShannonEnt(dataSet):\n",
    "    \"\"\"\n",
    "    函数：计算数据集香农熵\n",
    "    参数：dataSet:数据集\n",
    "        labels:数据标签\n",
    "    返回：shannonEnt 数据集对应的香农熵\n",
    "    \"\"\"\n",
    "    numEntries = len(dataSet) #样本数\n",
    "    labelCounts = {} #统计不同label出现次数的字典（key为label,value为出现次数）\n",
    "    shannonEnt = 0.0\n",
    "    \n",
    "    #计算labelCounts\n",
    "    for featVec in dataSet:\n",
    "        # 获取当前这条数据的label值\n",
    "        currentLabel = featVec[-1]\n",
    "        # 是新label，则在标签字典中新建对应的key，value的对应出现的次数，初始化为0\n",
    "        if currentLabel not in labelCounts.keys(): \n",
    "            labelCounts[currentLabel] = 0\n",
    "        # 已有则当前label出现次数+1\n",
    "        labelCounts[currentLabel] += 1\n",
    "    ### START CODE HERE ###\n",
    "    for key in labelCounts:\n",
    "        pk = labelCounts[key] / numEntries\n",
    "        shannonEnt -= pk * (np.log2(pk))\n",
    "    ### END CODE HERE ###   \n",
    "    \n",
    "    return shannonEnt"
   ]
  },
  {
   "cell_type": "code",
   "execution_count": 3,
   "metadata": {
    "scrolled": false
   },
   "outputs": [
    {
     "name": "stdout",
     "output_type": "stream",
     "text": [
      "0.9402859586706311\n",
      "1.2638091738835462\n"
     ]
    }
   ],
   "source": [
    "print(calcShannonEnt(data1))\n",
    "data1[0][-1] = 'maybe' #尝试增加一个分类选项，观察熵变化\n",
    "print(calcShannonEnt(data1)) \n",
    "#out:0.9402859586706309 ; 1.2638091738835462\n",
    "\n",
    "data1[0][-1] = 'yes' #还原"
   ]
  },
  {
   "cell_type": "markdown",
   "metadata": {},
   "source": [
    "##### 2.2 完成基本功能函数\n",
    "+ splitDataSet:用于在决策树每个分支，将特征取某个值的所有数据划分为一个数据集"
   ]
  },
  {
   "cell_type": "code",
   "execution_count": 4,
   "metadata": {},
   "outputs": [
    {
     "data": {
      "text/plain": [
       "[[2, 1, 0, 'yes'], [0, 0, 1, 'yes'], [1, 1, 1, 'yes'], [2, 0, 0, 'yes']]"
      ]
     },
     "execution_count": 4,
     "metadata": {},
     "output_type": "execute_result"
    }
   ],
   "source": [
    "def splitDataSet(dataSet, axis, value):\n",
    "    \"\"\"\n",
    "    函数：将axis列属性值为value的组合为一个数据集，并删除第axis列特征信息\n",
    "    参数：axis:特征列索引\n",
    "        value:待分离的特征取值\n",
    "    返回：retDataSet:被分割出来的数据集\n",
    "    \"\"\"\n",
    "    retDataSet = []\n",
    "    for data in dataSet:\n",
    "        # 如果数据集的第axis列值等于value，保留条数据，并删除第axis列特征信息\n",
    "        if data[axis] == value:\n",
    "            # 获取被降维特征前面的所有特征\n",
    "            reducedFeatVec = data[:axis]\n",
    "            # 接上被降维特征后面的所有特征\n",
    "            reducedFeatVec.extend(data[axis + 1:])\n",
    "            # 新的降维数据加入新的返回数据集中\n",
    "            retDataSet.append(reducedFeatVec)\n",
    "    return retDataSet\n",
    "\n",
    "splitDataSet(data1,0,1) \n",
    "#out:[[2, 1, 0, 'yes'], [0, 0, 1, 'yes'], [1, 1, 1, 'yes'], [2, 0, 0, 'yes']]"
   ]
  },
  {
   "cell_type": "markdown",
   "metadata": {},
   "source": [
    "##### 2.3 用信息增益选择待分类的特征\n",
    "\n",
    "那么假设用离散属性a有V个可能值，划分能产生V个分支，每个分支包含的数据记为$D^v$。\n",
    "由此我们可以得出用属性a对样本集D划分的信息增益计算公式：\n",
    "$$Gain(D,a)=Ent(D)-\\sum_v\\frac{|D^v|}{|D|}Ent(D^v)$$"
   ]
  },
  {
   "cell_type": "code",
   "execution_count": 5,
   "metadata": {},
   "outputs": [
    {
     "data": {
      "text/plain": [
       "0"
      ]
     },
     "execution_count": 5,
     "metadata": {},
     "output_type": "execute_result"
    }
   ],
   "source": [
    "def chooseBestFeature_ID3(dataSet):\n",
    "    \"\"\"\n",
    "    函数：利用香农熵，计算所有可能划分的信息增益，输出当前数据集最好的分类特征\n",
    "    参数：dataSet\n",
    "    返回：bestFeature:最优特征的index(下标)\n",
    "    \"\"\"\n",
    "    numFeatures = len(dataSet[0]) - 1 #特征数\n",
    "    baseEntropy = calcShannonEnt(dataSet) #Ent(D)\n",
    "    bestInfoGain = 0.0 #信息增益\n",
    "    bestFeature = -1 #最好信息增益特征\n",
    "    \n",
    "    #遍历每个特征\n",
    "    for i in range(numFeatures):\n",
    "        featList = [example[i] for example in dataSet]\n",
    "        uniqueVals = set(featList) #第i个特征的可能取值\n",
    "        newEntropy = 0.0\n",
    "        \n",
    "        ### STARD CODE HERE ###\n",
    "        #计算以第i个特征划分产生的infoGain\n",
    "        #如果大于当前bestInfoGain，则保留当前划分为最优划分\n",
    "        for value in uniqueVals:\n",
    "            split_dataSet = splitDataSet(dataSet, i, value)\n",
    "            newEntropy += calcShannonEnt(split_dataSet) * (len(split_dataSet) / len(dataSet))\n",
    "        infoGain = baseEntropy - newEntropy\n",
    "        if infoGain > bestInfoGain:\n",
    "            bestInfoGain = infoGain\n",
    "            bestFeature = i\n",
    "\n",
    "        ### END CODE HERE ###   \n",
    "    \n",
    "    return bestFeature\n",
    "\n",
    "chooseBestFeature_ID3(data1)\n",
    "#out:0"
   ]
  },
  {
   "cell_type": "markdown",
   "metadata": {},
   "source": [
    "##### 2.4 生成ID3决策树\n",
    "\n",
    "接下来我们可以用 **递归** 的方法生成决策树，其基本流程如下：\n",
    "+ 划分条件：自根结点开始，通过选择出最佳属性进行划分树结构，并递归划分；\n",
    "+ 停止条件：当前结点都是同一种类型；当前结点后为空，或者所有样本在所有属性上取值相同，无法划分；\n",
    "\n",
    "这是通用的创建决策树的函数，根据参数chooseBestFeature的不同，得到不同算法的决策树，当前任务中参数为刚刚编写的 chooseBestFeature_ID3。\n",
    "\n",
    "#### 备注：\n",
    "此处代码实现的ID3树，每个结点不能选取祖先结点用过的分类特征。\n",
    "而实际上结点的不同子树，是有可能选取同样的分类特征的。\n",
    "原因在于代码实现的  del (features[bestFeat]) 会导致一个特征被选用后，之后就再不能被选用。可以通过在递归时传入features的一份复制来避免这个问题。"
   ]
  },
  {
   "cell_type": "code",
   "execution_count": 6,
   "metadata": {},
   "outputs": [
    {
     "data": {
      "image/png": "[encoded data removed]",
      "text/plain": [
       "<Figure size 432x288 with 1 Axes>"
      ]
     },
     "metadata": {},
     "output_type": "display_data"
    }
   ],
   "source": [
    "def createTree(dataSet, features, chooseBestFeature):\n",
    "    \"\"\"\n",
    "    函数：递归地根据数据集和数据特征名创建决策树\n",
    "    参数：chooseBestFeature:函数作为参数，通过chooseBestFeature(dataSet)调用，\n",
    "        根据参数的不同，获取由ID3或C4.5算法选择的最优特征的index\n",
    "    返回：myTree:由集合表示的决策树\n",
    "    \"\"\"\n",
    "    classList = [data[-1] for data in dataSet] #当前数据集的所有标签\n",
    "    bestFeat = chooseBestFeature(dataSet) #当前数据集最优特征\n",
    "    bestFeatName = features[bestFeat]   #最优特征的标签名\n",
    "    myTree = {bestFeatName: {}} #构造当前结点——最优特征:子结点集合\n",
    "    bestFeatValues = set([data[bestFeat] for data in dataSet]) #最优特征可能的取值，set去重\n",
    "    del (features[bestFeat]) #删除已用过的分类标签\n",
    "    \n",
    "    ### STARD CODE HERE ###\n",
    "    \n",
    "    # 如果当前dataSet所有的标签相同，此结点分类完毕，结束决策，返回分类标签\n",
    "    # 否则，为每个最优特征取值，递归地创建子树\n",
    "    check_duplicate = set(classList);\n",
    "    if len(check_duplicate) > 1:\n",
    "        for value in bestFeatValues:\n",
    "            dateSet = splitDataSet(dataSet, bestFeat, value)\n",
    "            myTree[bestFeatName][value] = createTree(dateSet, features.copy(), chooseBestFeature_ID3)\n",
    "    else:\n",
    "        return classList[0]\n",
    "\n",
    "    ### END CODE HERE ###  \n",
    "\n",
    "    return myTree\n",
    "\n",
    "data1, labels1 = createDataSet1()\n",
    "ID3Tree = createTree(data1, labels1,chooseBestFeature_ID3)\n",
    "treePlotter.createPlot(ID3Tree)"
   ]
  },
  {
   "cell_type": "markdown",
   "metadata": {},
   "source": [
    "### <center> Sample Output:</center>\n",
    "![tree0.png](img/tree0.png)"
   ]
  },
  {
   "cell_type": "markdown",
   "metadata": {},
   "source": [
    "### 任务三：C4.5树\n",
    "\n",
    "ID3用信息增益选择属性的方式会让他对取值数目较多的属性产生偏好，接下来我们通过一个直观的例子来说明。\n",
    "\n",
    "假设数据集变成如下所示，某个属性(如风速)变为每个样本一个值的情况，构建一个ID3树。"
   ]
  },
  {
   "cell_type": "code",
   "execution_count": 7,
   "metadata": {},
   "outputs": [
    {
     "data": {
      "image/png": "[encoded data removed]",
      "text/plain": [
       "<Figure size 432x288 with 1 Axes>"
      ]
     },
     "metadata": {},
     "output_type": "display_data"
    }
   ],
   "source": [
    "def createDataSet2():\n",
    "    data=[\n",
    "            [0, 0, 1, 0, 'yes'],\n",
    "            [1, 1, 0, 1, 'yes'],\n",
    "            [0, 0, 0, 2, 'no'],\n",
    "            [0, 1, 1, 3, 'no'],\n",
    "            [1, 1, 1, 4, 'yes']\n",
    "            ]\n",
    "    features2=['weather','temperature','humidity','wspeed']\n",
    "    return data,features2\n",
    "data2, features2 = createDataSet2()\n",
    "ID3Tree = createTree(data2, features2, chooseBestFeature_ID3)\n",
    "treePlotter.createPlot(ID3Tree)"
   ]
  },
  {
   "attachments": {},
   "cell_type": "markdown",
   "metadata": {},
   "source": [
    "### <center> Sample Output:</center>\n",
    "![tree4.png](img/tree4.png)\n",
    "可以观察到，ID3树利用了该属性为每一个样本创建了分支，这样得到的决策树显然泛化性会很差。\n",
    "为了进行改进，我们可以设想为信息增益增加一个类似于正则项的惩罚参数，在特征取值多时，降低信息增益。\n",
    "\n",
    "**信息增益比 = 惩罚参数 * 信息增益**\n",
    "\n",
    "C4.5算法为属性定义一个Intrinsic Value(IV)来构建这个惩罚参数：$$IV(a)=-\\sum_{v=1}^{V}\\frac{|D^v|}{|D|}log\\frac{|D^v|}{|D|}$$\n",
    "其数学意义为：以特征a作为随机变量的熵的倒数。\n",
    "\n",
    "假设某个属性将样本等分为x份，可得其$IV=-log(1/x)$\n",
    "![plot1.png](img/plot1.png)\n",
    "观察函数图像会发现，样本划分越多，x越大，其值越大\n",
    "\n",
    "于是可将信息增益改进为信息增益比$$GainRatio(D,a)=\\frac{Gain(D,a)}{IV(a)}$$\n",
    "\n",
    "#### 任务3.1 用信息增益比选择分类特征"
   ]
  },
  {
   "cell_type": "code",
   "execution_count": 8,
   "metadata": {},
   "outputs": [],
   "source": [
    "def chooseBestFeature_C45(dataSet):\n",
    "    \"\"\"\n",
    "    函数：计算所有可能划分的信息增益比，输出当前数据集最好的分类特征\n",
    "    参数：dataSet\n",
    "    返回：bestFeature:最优特征的index(下标)\n",
    "    \"\"\"\n",
    "    numFeatures = len(dataSet[0]) - 1\n",
    "    baseEntropy = calcShannonEnt(dataSet)\n",
    "    bestInfoGain = 0.0\n",
    "    bestFeature = -1\n",
    "    \n",
    "    for i in range(numFeatures):\n",
    "        featList = [example[i] for example in dataSet]\n",
    "        uniqueVals = set(featList) \n",
    "        newEntropy = 0.0\n",
    "        IV = 0.0 \n",
    "        \n",
    "        ### STARD CODE HERE ### \n",
    "\n",
    "        # 计算以第i个特征划分的infoGain，以及其IV\n",
    "        # 计算GainRatio衰减\n",
    "        # 如果大于当前最优，则保留当前划分为最优划分\n",
    "        for value in uniqueVals:\n",
    "            split_dataSet = splitDataSet(dataSet, i, value)\n",
    "            newEntropy += calcShannonEnt(split_dataSet) * (len(split_dataSet) / len(dataSet))\n",
    "            Dk_over_D = len(split_dataSet) / len(dataSet)\n",
    "            IV -= Dk_over_D * np.log2(Dk_over_D)\n",
    "        infoGain = baseEntropy - newEntropy\n",
    "        GainRatio = infoGain / IV\n",
    "        if GainRatio > bestInfoGain:\n",
    "            bestFeature = i\n",
    "            bestInfoGain = GainRatio\n",
    "\n",
    "        ### END CODE HERE ###\n",
    "    \n",
    "    return bestFeature"
   ]
  },
  {
   "cell_type": "markdown",
   "metadata": {},
   "source": [
    "#### 任务3.2 生成C4.5树"
   ]
  },
  {
   "cell_type": "code",
   "execution_count": 9,
   "metadata": {
    "scrolled": true
   },
   "outputs": [
    {
     "data": {
      "image/png": "[encoded data removed]",
      "text/plain": [
       "<Figure size 432x288 with 1 Axes>"
      ]
     },
     "metadata": {},
     "output_type": "display_data"
    }
   ],
   "source": [
    "data2, labels2 = createDataSet2()\n",
    "C45Tree = createTree(data2, labels2, chooseBestFeature_C45)\n",
    "treePlotter.createPlot(C45Tree)"
   ]
  },
  {
   "attachments": {},
   "cell_type": "markdown",
   "metadata": {},
   "source": [
    "### <center> Sample Output:</center>\n",
    "![tree5.png](img/tree5.png)\n",
    "可以观察到，C4.5算法的确对特征取值较少的属性产生了更多偏好，可以有效的避免上述ID3树存在的问题。但C4.5算法分类结果还是存在一定的过拟合。"
   ]
  },
  {
   "cell_type": "markdown",
   "metadata": {},
   "source": [
    "### 任务四：CART"
   ]
  },
  {
   "cell_type": "markdown",
   "metadata": {},
   "source": [
    "前面的实验我们发现ID3和C4.5算法在用于分类问题是有效的，那么决策树可以适用于回归问题吗？\n",
    "\n",
    "CART(Classification and regression tree)如其名，便是可以既可以用于解决分类问题，又可以用于解决回归问题的决策树算法。\n",
    "\n",
    "在解决分类问题时：\n",
    "\n",
    "ID3/C4.5基于信息论熵模型选择一个离散的特征进行分类，根据特征取值数目一次性划分若干子结点，然后子结点的数据集将不再包含这个特征，这个特征不再参与接下来的分类，这意味着这种决策树模型是不能直接处理连续取值的特征的，除非划分区间将其离散化。\n",
    "\n",
    "CART则根据**基尼系数(Gini Index)** 为连续或离散的特征选择一个划分点，产生左右两个分支，生成二叉树。在产生分支后，仍可以再利用这个特征，参与接下来的分类，产生下一个分支。用叶子结点样本**最多的标签**作为预测输出。\n",
    "\n",
    "在解决回归问题时：\n",
    "\n",
    "CART根据**平方损失**选择最优划分特征和划分点，并用叶子结点样本**标签均值**作为预测输出。\n",
    "\n",
    "接下来我们来具体实现CART回归树，并尝试用于解决一个分类问题。"
   ]
  },
  {
   "cell_type": "markdown",
   "metadata": {},
   "source": [
    "##### 任务4.1 iris数据集读取和预处理\n",
    "\n",
    "Iris数据集即鸢尾属植物数据集，该数据集测量了所有150个样本的4个特征，分别是：\n",
    "+ sepal length（花萼长度）\n",
    "+ sepal width（花萼宽度）\n",
    "+ petal length（花瓣长度）\n",
    "+ petal width（花瓣宽度）\n",
    "\n",
    "标签为其种属：Iris Setosa，Iris Versicolour，Iris Virginica。该数据集被广泛用于分类算法示例，我们可以看到其4个特征取值均是连续的。数据集存储在 iris.csv 文件中,我们从中手动划分一部分作为训练集。\n"
   ]
  },
  {
   "cell_type": "code",
   "execution_count": 10,
   "metadata": {},
   "outputs": [
    {
     "name": "stdout",
     "output_type": "stream",
     "text": [
      "['5.1' '3.5' '1.4' '0.2' 'setosa']\n",
      "['5.1' '3.8' '1.9' '0.4' 'setosa']\n",
      "['Sepal.Length' 'Sepal.Width' 'Petal.Length' 'Petal.Width']\n",
      "['setosa', 'versicolor', 'virginica']\n"
     ]
    }
   ],
   "source": [
    "def createDataSetIris():\n",
    "    '''\n",
    "    函数：获取鸢尾花数据集，以及预处理\n",
    "    返回：\n",
    "        Data:构建决策树的数据集(因打乱有一定随机性)\n",
    "        Data_test:手动划分的测试集\n",
    "        featrues：特征名列表\n",
    "        labels：标签名列表\n",
    "    '''\n",
    "    labels = [\"setosa\",\"versicolor\",\"virginica\"]\n",
    "    with open('iris.csv','r') as f:\n",
    "        rawData = np.array(list(csv.reader(f)))\n",
    "        features = np.array(rawData[0,1:-1]) \n",
    "        dataSet = np.array(rawData[1:,1:]) #去除序号和特征列\n",
    "        np.random.shuffle(dataSet) #打乱（之前如果不加array()得到的会是引用，rawData会被一并打乱）\n",
    "    return rawData[1:,1:], dataSet, features, labels\n",
    "\n",
    "rawData, data, features, labels = createDataSetIris()\n",
    "print(rawData[0]) #['5.1' '3.5' '1.4' '0.2' 'setosa']\n",
    "print(data[0])\n",
    "print(features) #['Sepal.Length' 'Sepal.Width' 'Petal.Length' 'Petal.Width']\n",
    "print(labels) #['setosa', 'versicolor', 'virginica']"
   ]
  },
  {
   "cell_type": "markdown",
   "metadata": {},
   "source": [
    "##### 4.2 完成基尼指数计算函数\n",
    "\n",
    "数据集D的基尼值(Gini Index)计算公式如下：\n",
    "$$Gini(D)=\\sum_{k=1}^{K}\\sum_{k'≠K}p_kp_k'=1-\\sum_{k=1}^{K}p_k^2$$\n",
    "其数学意义为，从数据集中任选两个样本，类别不一致的概率。其值越小，数据集纯度越高。\n",
    "\n",
    "数据集D某个划分a的基尼系数计算如下：\n",
    "$$GiniIndex(D,a)=\\sum_{v=1}^{V}\\frac{|D^v|}{|D|}Gini(D^v)$$"
   ]
  },
  {
   "cell_type": "code",
   "execution_count": 11,
   "metadata": {},
   "outputs": [
    {
     "data": {
      "text/plain": [
       "0.6666666666666667"
      ]
     },
     "execution_count": 11,
     "metadata": {},
     "output_type": "execute_result"
    }
   ],
   "source": [
    "def calcGiniIndex(dataSet):\n",
    "    '''\n",
    "    函数：计算数据集基尼值\n",
    "    参数：dataSet:数据集\n",
    "    返回: Gini值\n",
    "    ''' \n",
    "    counts = [] #每个标签在数据集中出现的次数\n",
    "    count = len(dataSet) #数据集长度\n",
    "    for label in labels:\n",
    "        counts.append([d[-1] == label for d in dataSet].count(True))\n",
    "    \n",
    "    ### STARD CODE HERE ###  \n",
    "    pk_square = 0.0\n",
    "    for i in counts:\n",
    "        pk_square += (i / count) ** 2\n",
    "\n",
    "    gini = 1 - pk_square\n",
    "    ### END CODE HERE ###\n",
    "    \n",
    "    return gini\n",
    "\n",
    "calcGiniIndex(rawData) \n",
    "#out:0.6666666666666667"
   ]
  },
  {
   "cell_type": "markdown",
   "metadata": {},
   "source": [
    "##### 4.3 完成基本功能函数\n",
    "+ binarySplitDataSet: 和ID3,C4.5不同，CART每个划分均为二分，且不删除特征信息。这里由于已知数据集特征取值全是连续取值型的, 对算法的部分功能进行了并不严谨的简化。实际应用中的CART还应该判断特征取值是否离散，若离散，并把feature等于和不等于value的数据划分为两个数据集。\n",
    "+ classificationLeaf:用于分类命题，此处实现的是多数表决器，叶结点输出数据集最多的标签作为分类。如果是用于回归问题，叶结点应该输出的是数据集列的均值作为回归预测。"
   ]
  },
  {
   "cell_type": "code",
   "execution_count": 12,
   "metadata": {},
   "outputs": [
    {
     "data": {
      "text/plain": [
       "[array(['4.3', '3', '1.1', '0.1', 'setosa'], dtype='<U12')]"
      ]
     },
     "execution_count": 12,
     "metadata": {},
     "output_type": "execute_result"
    }
   ],
   "source": [
    "def binarySplitDataSet(dataSet, feature, value):\n",
    "    '''\n",
    "    函数：将数据集按特征列的某一取值换分为左右两个子数据集\n",
    "    参数：dataSet:数据集\n",
    "        feature:数据集中某一特征列\n",
    "        value:该特征列中的某个取值\n",
    "    返回：左右子数据集\n",
    "    '''\n",
    "    matLeft = [d for d in dataSet if d[feature] <= value]\n",
    "    matRight = [d for d in dataSet if d[feature] > value]\n",
    "    return matLeft,matRight\n",
    "\n",
    "binarySplitDataSet(rawData,0,\"4.3\")[0]\n",
    "#out[array(['4.3', '3', '1.1', '0.1', 'setosa'], dtype='<U12')]"
   ]
  },
  {
   "cell_type": "code",
   "execution_count": 13,
   "metadata": {},
   "outputs": [
    {
     "data": {
      "text/plain": [
       "1"
      ]
     },
     "execution_count": 13,
     "metadata": {},
     "output_type": "execute_result"
    }
   ],
   "source": [
    "def classifyLeaf(dataSet, labels):\n",
    "    '''\n",
    "    函数：求数据集最多的标签，用于结点分类\n",
    "    参数：dataSet:数据集\n",
    "        labels:标签名列表\n",
    "    返回：该标签的index\n",
    "    '''\n",
    "    counts = [] \n",
    "    for label in labels:\n",
    "        counts.append([d[-1] == label for d in dataSet].count(True))\n",
    "    return np.argmax(counts) #argmax：使counts取最大值的下标\n",
    "\n",
    "classifyLeaf(rawData[40:120],labels) \n",
    "#out:1"
   ]
  },
  {
   "cell_type": "markdown",
   "metadata": {},
   "source": [
    "##### 4.4 用基尼系数选择特征及划分点\n",
    "\n",
    "CART在这一步选择的不仅是特征，而是特征以及该特征的一个分界点。CART要遍历所有特征的所有样本取值作为分界点的Gini系数，从中找出最优特征和最优划分。\n",
    "\n",
    "在这里我们进一步地为决策树设定停止条件——阈值。当结点样本树足够小或者Gini增益足够小的时候停止划分，将结点中最多的样本作为结点的决策分类。"
   ]
  },
  {
   "cell_type": "code",
   "execution_count": 17,
   "metadata": {},
   "outputs": [
    {
     "data": {
      "text/plain": [
       "(None, 'setosa')"
      ]
     },
     "execution_count": 17,
     "metadata": {},
     "output_type": "execute_result"
    }
   ],
   "source": [
    "def chooseBestSplit(dataSet, labels, leafType=classifyLeaf, errType=calcGiniIndex, threshold=(0.01,4)):\n",
    "    '''\n",
    "    函数：利用基尼系数选择最佳划分特征及相应的划分点\n",
    "    参数：dataSet:数据集\n",
    "        leafType:叶结点输出函数(当前实验为分类)\n",
    "        errType:损失函数，选择划分的依据(分类问题用的就是GiniIndex)\n",
    "        threshold: Gini阈值，样本阈值(结点Gini或样本数低于阈值时停止)\n",
    "    返回：bestFeatureIndex:划分特征\n",
    "        bestFeatureValue:最优特征划分点\n",
    "    '''\n",
    "    thresholdErr = threshold[0] #Gini阈值\n",
    "    thresholdSamples = threshold[1] #样本阈值\n",
    "    err = errType(dataSet)\n",
    "    bestErr = np.inf\n",
    "    bestFeatureIndex = 0 #最优特征的index\n",
    "    bestFeatureValue = 0 #最优特征划分点\n",
    "\n",
    "    ### STARD CODE HERE ###    \n",
    "    #当数据中输出值都相等时，返回叶结点（即feature=None,value=结点分类）\n",
    "    if err == 0:\n",
    "        return None, dataSet[0][-1]\n",
    "    #尝试所有特征的所有取值，二分数据集，计算err(本实验为Gini)，保留bestErr\n",
    "\n",
    "    for i in range(len(dataSet[0]) - 1):\n",
    "        featList = [example[i] for example in dataSet]\n",
    "        uniqueVals = set(featList)\n",
    "        for value in uniqueVals:\n",
    "            leftSet,rightSet = binarySplitDataSet(dataSet, i, value)\n",
    "            if len(leftSet) < thresholdSamples or len(rightSet) < thresholdSamples:\n",
    "                continue\n",
    "            err = (len(leftSet) * calcGiniIndex(leftSet) + len(rightSet) * calcGiniIndex(rightSet)) / (len(leftSet) + len(rightSet))\n",
    "            if err < bestErr:\n",
    "                bestErr = err\n",
    "                bestFeatureIndex = i\n",
    "                bestFeatureValue = value\n",
    "\n",
    "        \n",
    "    #检验Gini阈值，若是则不再划分，返回叶结点\n",
    "    if err - bestErr < thresholdErr:\n",
    "        return None, labels[leafType(dataSet, labels)]\n",
    "    #检验左右数据集的样本数是否小于阈值，若是则不再划分，返回叶结点\n",
    "    if len(leftSet) < thresholdSamples or len(rightSet) < thresholdSamples:\n",
    "        return None, labels[leafType(dataSet, labels)]\n",
    "    \n",
    "    ### END CODE HERE ###  \n",
    "    \n",
    "    return bestFeatureIndex,bestFeatureValue\n",
    "\n",
    "chooseBestSplit(rawData, labels)\n",
    "#out:(2, '1.9')"
   ]
  },
  {
   "cell_type": "markdown",
   "metadata": {},
   "source": [
    "##### 4.5 生成CART\n",
    "\n",
    "根据参数leafType，errType的不同，生成CART分类树或是CART回归树。"
   ]
  },
  {
   "cell_type": "code",
   "execution_count": 15,
   "metadata": {},
   "outputs": [
    {
     "ename": "AttributeError",
     "evalue": "'str' object has no attribute 'keys'",
     "output_type": "error",
     "traceback": [
      "\u001b[0;31m--------------------\u001b[0m",
      "\u001b[0;31mAttributeError\u001b[0mTraceback (most recent call last)",
      "\u001b[0;32m<ipython-input-15-e262b37d0815>\u001b[0m in \u001b[0;36m<module>\u001b[0;34m\u001b[0m\n\u001b[1;32m     25\u001b[0m \u001b[0;34m\u001b[0m\u001b[0m\n\u001b[1;32m     26\u001b[0m \u001b[0mCARTTree\u001b[0m \u001b[0;34m=\u001b[0m \u001b[0mcreateTree_CART\u001b[0m\u001b[0;34m(\u001b[0m\u001b[0mdata\u001b[0m\u001b[0;34m,\u001b[0m \u001b[0mlabels\u001b[0m\u001b[0;34m,\u001b[0m \u001b[0mclassifyLeaf\u001b[0m\u001b[0;34m,\u001b[0m \u001b[0mcalcGiniIndex\u001b[0m\u001b[0;34m,\u001b[0m \u001b[0;34m(\u001b[0m\u001b[0;36m0.01\u001b[0m\u001b[0;34m,\u001b[0m\u001b[0;36m4\u001b[0m\u001b[0;34m)\u001b[0m\u001b[0;34m)\u001b[0m\u001b[0;34m\u001b[0m\u001b[0;34m\u001b[0m\u001b[0m\n\u001b[0;32m---> 27\u001b[0;31m \u001b[0mtreePlotter\u001b[0m\u001b[0;34m.\u001b[0m\u001b[0mcreatePlot\u001b[0m\u001b[0;34m(\u001b[0m\u001b[0mCARTTree\u001b[0m\u001b[0;34m)\u001b[0m\u001b[0;34m\u001b[0m\u001b[0;34m\u001b[0m\u001b[0m\n\u001b[0m",
      "\u001b[0;32m~/大三上/machine learning/HW6/treePlotter.py\u001b[0m in \u001b[0;36mcreatePlot\u001b[0;34m(inTree)\u001b[0m\n\u001b[1;32m    126\u001b[0m     \u001b[0mcreatePlot\u001b[0m\u001b[0;34m.\u001b[0m\u001b[0max1\u001b[0m \u001b[0;34m=\u001b[0m \u001b[0mplt\u001b[0m\u001b[0;34m.\u001b[0m\u001b[0msubplot\u001b[0m\u001b[0;34m(\u001b[0m\u001b[0;36m111\u001b[0m\u001b[0;34m,\u001b[0m \u001b[0mframeon\u001b[0m\u001b[0;34m=\u001b[0m\u001b[0;32mFalse\u001b[0m\u001b[0;34m,\u001b[0m \u001b[0;34m**\u001b[0m\u001b[0maxprops\u001b[0m\u001b[0;34m)\u001b[0m\u001b[0;34m\u001b[0m\u001b[0;34m\u001b[0m\u001b[0m\n\u001b[1;32m    127\u001b[0m     \u001b[0;31m# createPlot.ax1 = plt.subplot(111, frameon=False) #ticks for demo puropses\u001b[0m\u001b[0;34m\u001b[0m\u001b[0;34m\u001b[0m\u001b[0;34m\u001b[0m\u001b[0m\n\u001b[0;32m--> 128\u001b[0;31m     \u001b[0mplotTree\u001b[0m\u001b[0;34m.\u001b[0m\u001b[0mtotalW\u001b[0m \u001b[0;34m=\u001b[0m \u001b[0mfloat\u001b[0m\u001b[0;34m(\u001b[0m\u001b[0mgetNumLeafs\u001b[0m\u001b[0;34m(\u001b[0m\u001b[0minTree\u001b[0m\u001b[0;34m)\u001b[0m\u001b[0;34m)\u001b[0m\u001b[0;34m\u001b[0m\u001b[0;34m\u001b[0m\u001b[0m\n\u001b[0m\u001b[1;32m    129\u001b[0m     \u001b[0mplotTree\u001b[0m\u001b[0;34m.\u001b[0m\u001b[0mtotalD\u001b[0m \u001b[0;34m=\u001b[0m \u001b[0mfloat\u001b[0m\u001b[0;34m(\u001b[0m\u001b[0mgetTreeDepth\u001b[0m\u001b[0;34m(\u001b[0m\u001b[0minTree\u001b[0m\u001b[0;34m)\u001b[0m\u001b[0;34m)\u001b[0m\u001b[0;34m\u001b[0m\u001b[0;34m\u001b[0m\u001b[0m\n\u001b[1;32m    130\u001b[0m     \u001b[0mplotTree\u001b[0m\u001b[0;34m.\u001b[0m\u001b[0mxOff\u001b[0m \u001b[0;34m=\u001b[0m \u001b[0;34m-\u001b[0m\u001b[0;36m0.5\u001b[0m \u001b[0;34m/\u001b[0m \u001b[0mplotTree\u001b[0m\u001b[0;34m.\u001b[0m\u001b[0mtotalW\u001b[0m\u001b[0;34m\u001b[0m\u001b[0;34m\u001b[0m\u001b[0m\n",
      "\u001b[0;32m~/大三上/machine learning/HW6/treePlotter.py\u001b[0m in \u001b[0;36mgetNumLeafs\u001b[0;34m(myTree)\u001b[0m\n\u001b[1;32m     39\u001b[0m     \u001b[0mnumLeafs\u001b[0m \u001b[0;34m=\u001b[0m \u001b[0;36m0\u001b[0m\u001b[0;34m\u001b[0m\u001b[0;34m\u001b[0m\u001b[0m\n\u001b[1;32m     40\u001b[0m     \u001b[0;31m# 获取头节点标签key值\u001b[0m\u001b[0;34m\u001b[0m\u001b[0;34m\u001b[0m\u001b[0;34m\u001b[0m\u001b[0m\n\u001b[0;32m---> 41\u001b[0;31m     \u001b[0mfirstStr\u001b[0m \u001b[0;34m=\u001b[0m \u001b[0mlist\u001b[0m\u001b[0;34m(\u001b[0m\u001b[0mmyTree\u001b[0m\u001b[0;34m.\u001b[0m\u001b[0mkeys\u001b[0m\u001b[0;34m(\u001b[0m\u001b[0;34m)\u001b[0m\u001b[0;34m)\u001b[0m\u001b[0;34m[\u001b[0m\u001b[0;36m0\u001b[0m\u001b[0;34m]\u001b[0m\u001b[0;34m\u001b[0m\u001b[0;34m\u001b[0m\u001b[0m\n\u001b[0m\u001b[1;32m     42\u001b[0m     \u001b[0;31m# 获取头结点标签key对应的value子树\u001b[0m\u001b[0;34m\u001b[0m\u001b[0;34m\u001b[0m\u001b[0;34m\u001b[0m\u001b[0m\n\u001b[1;32m     43\u001b[0m     \u001b[0msecondDict\u001b[0m \u001b[0;34m=\u001b[0m \u001b[0mmyTree\u001b[0m\u001b[0;34m[\u001b[0m\u001b[0mfirstStr\u001b[0m\u001b[0;34m]\u001b[0m\u001b[0;34m\u001b[0m\u001b[0;34m\u001b[0m\u001b[0m\n",
      "\u001b[0;31mAttributeError\u001b[0m: 'str' object has no attribute 'keys'"
     ]
    },
    {
     "data": {
      "image/png": "[encoded data removed]",
      "text/plain": [
       "<Figure size 432x288 with 1 Axes>"
      ]
     },
     "metadata": {},
     "output_type": "display_data"
    }
   ],
   "source": [
    "def createTree_CART(dataSet, labels, leafType=classifyLeaf, errType=calcGiniIndex, threshold=(0.01,4)):\n",
    "\n",
    "    '''\n",
    "    函数：建立CART树\n",
    "    参数：同上\n",
    "    返回：CART树\n",
    "    '''\n",
    "    feature,value = chooseBestSplit(dataSet, labels, leafType, errType, threshold)\n",
    "\n",
    "    ### STARD CODE HERE ###    \n",
    "    #是叶结点则返回决策分类（chooseBestSplit返回None时表明这里是叶结点）\n",
    "    if feature is None:\n",
    "        return value\n",
    "    #否则创建分支，递归生成子树\n",
    "    leftSet,rightSet = binarySplitDataSet(dataSet, feature, value)   \n",
    "    myTree = {}\n",
    "    myTree[features[feature]] = {}\n",
    "    myTree[features[feature]]['<=' + str(value) + ' contains' + str(len(leftSet))] = createTree_CART(leftSet, np.array(leftSet)[:,-1], leafType, errType,threshold)\n",
    "    myTree[features[feature]]['>' + str(value) + ' contains' + str(len(rightSet))] = createTree_CART(rightSet, np.array(rightSet)[:,-1], leafType, errType,threshold)\n",
    "\n",
    "    \n",
    "    ### END CODE HERE ###    \n",
    "    \n",
    "    return myTree\n",
    "\n",
    "CARTTree = createTree_CART(data, labels, classifyLeaf, calcGiniIndex, (0.01,4))\n",
    "treePlotter.createPlot(CARTTree)"
   ]
  },
  {
   "attachments": {
    "tree6.png": {
     "image/png": "[encoded data removed]"
    }
   },
   "cell_type": "markdown",
   "metadata": {},
   "source": [
    "### <center> Sample Output:</center>\n",
    "\n",
    "#### 备注：\n",
    "+ 由于实现细节，实现顺序有所不同，最终生成的树可能也不一样，之前函数的测试样例通过即可。\n",
    "+ 一个分支两个子结点分类相同是未达到Gini阈值，却达到样本阈值导致的，可以通过更改特征选择代码中，停止划分判断的顺序避免。\n",
    "\n",
    "![tree6.png](attachment:tree6.png)\n",
    "从实例可以看到一些CART树的特点，如：连续属性二分划分特征，特征可重复用于结点分类等等"
   ]
  },
  {
   "cell_type": "code",
   "execution_count": null,
   "metadata": {},
   "outputs": [],
   "source": []
  }
 ],
 "metadata": {
  "kernelspec": {
   "display_name": "Python 3",
   "language": "python",
   "name": "python3"
  },
  "language_info": {
   "codemirror_mode": {
    "name": "ipython",
    "version": 3
   },
   "file_extension": ".py",
   "mimetype": "text/x-python",
   "name": "python",
   "nbconvert_exporter": "python",
   "pygments_lexer": "ipython3",
   "version": "3.7.9"
  },
  "latex_envs": {
   "LaTeX_envs_menu_present": true,
   "autoclose": false,
   "autocomplete": true,
   "bibliofile": "biblio.bib",
   "cite_by": "apalike",
   "current_citInitial": 1,
   "eqLabelWithNumbers": true,
   "eqNumInitial": 1,
   "hotkeys": {
    "equation": "Ctrl-E",
    "itemize": "Ctrl-I"
   },
   "labels_anchors": false,
   "latex_user_defs": false,
   "report_style_numbering": false,
   "user_envs_cfg": false
  }
 },
 "nbformat": 4,
 "nbformat_minor": 2
}
